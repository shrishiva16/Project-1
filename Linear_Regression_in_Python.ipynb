{
  "nbformat": 4,
  "nbformat_minor": 0,
  "metadata": {
    "colab": {
      "name": "Linear Regression in Python.ipynb",
      "provenance": [],
      "authorship_tag": "ABX9TyOvXJtnJI5tM3I616C0Vwai",
      "include_colab_link": true
    },
    "kernelspec": {
      "name": "python3",
      "display_name": "Python 3"
    },
    "language_info": {
      "name": "python"
    }
  },
  "cells": [
    {
      "cell_type": "markdown",
      "metadata": {
        "id": "view-in-github",
        "colab_type": "text"
      },
      "source": [
        "<a href=\"https://colab.research.google.com/github/shrishiva16/Project-1/blob/main/Linear_Regression_in_Python.ipynb\" target=\"_parent\"><img src=\"https://colab.research.google.com/assets/colab-badge.svg\" alt=\"Open In Colab\"/></a>"
      ]
    },
    {
      "cell_type": "markdown",
      "metadata": {
        "id": "a0zo4VRc6xWn"
      },
      "source": [
        "Linear Regression:\n",
        "\n",
        "Y = wX + b\n",
        "\n",
        "Y --> Dependent Variable\n",
        "\n",
        "X --> Independent Variable\n",
        "\n",
        "w --> weight\n",
        "\n",
        "b --> bias\n",
        "\n",
        "Gradient Descent:\n",
        "w = w - α*dw\n",
        "\n",
        "b = b - α*db\n",
        "![image.png](data:image/png;base64,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)\n",
        "\n",
        "![image.png](data:image/png;base64,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)"
      ]
    },
    {
      "cell_type": "code",
      "metadata": {
        "id": "t13qgEZ355sU"
      },
      "source": [
        "import numpy as np\n",
        "class Linear_Regression():\n",
        "  def __init__(self,learning_rate,no_of_iterations):\n",
        "    self.learning_rate=learning_rate\n",
        "    self.no_of_iterations=no_of_iterations\n",
        "\n",
        "  def fit(self,X,Y):\n",
        "    self.m,self.n=X.shape #m - no of training examples n- no of features\n",
        "    self.w=np.zeros(self.n)\n",
        "    self.b=0\n",
        "    self.X=X\n",
        "    self.Y=Y\n",
        "\n",
        "    for i in range(self.no_of_iterations):\n",
        "      self.update_weight()\n",
        "\n",
        "\n",
        "\n",
        "  def update_weight(self):\n",
        "    Y_prediction=self.predict(self.X)\n",
        "    dw=-(2*(self.X.T).dot(self.Y-Y_prediction))/self.m\n",
        "    db=-2*np.sum(self.Y-Y_prediction)/self.m\n",
        "    self.w = self.w - self.learning_rate * dw\n",
        "    self.b = self.b - self.learning_rate * db\n",
        "\n",
        "\n",
        "\n",
        "  def predict(self,X):\n",
        "    return X.dot(self.w)+self.b"
      ],
      "execution_count": 46,
      "outputs": []
    },
    {
      "cell_type": "markdown",
      "metadata": {
        "id": "7gPmZvixnrse"
      },
      "source": [
        "Importing dependencies"
      ]
    },
    {
      "cell_type": "code",
      "metadata": {
        "id": "S53knF12nftk"
      },
      "source": [
        "import pandas as pd\n",
        "from sklearn.model_selection import train_test_split\n",
        "import matplotlib.pyplot as plt\n"
      ],
      "execution_count": 47,
      "outputs": []
    },
    {
      "cell_type": "markdown",
      "metadata": {
        "id": "VP2zw_Hlnv7b"
      },
      "source": [
        "Data-Pre Processing"
      ]
    },
    {
      "cell_type": "code",
      "metadata": {
        "colab": {
          "base_uri": "https://localhost:8080/",
          "height": 206
        },
        "id": "BZTpTWf3pILr",
        "outputId": "dd49eda9-fa32-483d-a719-6c1650e20301"
      },
      "source": [
        "salary_dataframe=pd.read_csv('/content/salary_data.csv')\n",
        "salary_dataframe.head()\n"
      ],
      "execution_count": 37,
      "outputs": [
        {
          "output_type": "execute_result",
          "data": {
            "text/html": [
              "<div>\n",
              "<style scoped>\n",
              "    .dataframe tbody tr th:only-of-type {\n",
              "        vertical-align: middle;\n",
              "    }\n",
              "\n",
              "    .dataframe tbody tr th {\n",
              "        vertical-align: top;\n",
              "    }\n",
              "\n",
              "    .dataframe thead th {\n",
              "        text-align: right;\n",
              "    }\n",
              "</style>\n",
              "<table border=\"1\" class=\"dataframe\">\n",
              "  <thead>\n",
              "    <tr style=\"text-align: right;\">\n",
              "      <th></th>\n",
              "      <th>YearsExperience</th>\n",
              "      <th>Salary</th>\n",
              "    </tr>\n",
              "  </thead>\n",
              "  <tbody>\n",
              "    <tr>\n",
              "      <th>0</th>\n",
              "      <td>1.1</td>\n",
              "      <td>39343</td>\n",
              "    </tr>\n",
              "    <tr>\n",
              "      <th>1</th>\n",
              "      <td>1.3</td>\n",
              "      <td>46205</td>\n",
              "    </tr>\n",
              "    <tr>\n",
              "      <th>2</th>\n",
              "      <td>1.5</td>\n",
              "      <td>37731</td>\n",
              "    </tr>\n",
              "    <tr>\n",
              "      <th>3</th>\n",
              "      <td>2.0</td>\n",
              "      <td>43525</td>\n",
              "    </tr>\n",
              "    <tr>\n",
              "      <th>4</th>\n",
              "      <td>2.2</td>\n",
              "      <td>39891</td>\n",
              "    </tr>\n",
              "  </tbody>\n",
              "</table>\n",
              "</div>"
            ],
            "text/plain": [
              "   YearsExperience  Salary\n",
              "0              1.1   39343\n",
              "1              1.3   46205\n",
              "2              1.5   37731\n",
              "3              2.0   43525\n",
              "4              2.2   39891"
            ]
          },
          "metadata": {},
          "execution_count": 37
        }
      ]
    },
    {
      "cell_type": "code",
      "metadata": {
        "colab": {
          "base_uri": "https://localhost:8080/"
        },
        "id": "b3XX8fEknvry",
        "outputId": "42dcfc4d-25e9-4545-dd88-56654e0951e3"
      },
      "source": [
        "salary_dataframe.shape"
      ],
      "execution_count": 38,
      "outputs": [
        {
          "output_type": "execute_result",
          "data": {
            "text/plain": [
              "(30, 2)"
            ]
          },
          "metadata": {},
          "execution_count": 38
        }
      ]
    },
    {
      "cell_type": "code",
      "metadata": {
        "colab": {
          "base_uri": "https://localhost:8080/"
        },
        "id": "DO_ss67Bpp_V",
        "outputId": "4dad103e-eb01-4508-d11b-8f6c11121deb"
      },
      "source": [
        "salary_dataframe.isnull().sum()"
      ],
      "execution_count": 30,
      "outputs": [
        {
          "output_type": "execute_result",
          "data": {
            "text/plain": [
              "YearsExperience    0\n",
              "Salary             0\n",
              "dtype: int64"
            ]
          },
          "metadata": {},
          "execution_count": 30
        }
      ]
    },
    {
      "cell_type": "code",
      "metadata": {
        "colab": {
          "base_uri": "https://localhost:8080/"
        },
        "id": "x38PW7lynvcU",
        "outputId": "46e4cfd4-43fb-48ad-ffe8-f608d52733fa"
      },
      "source": [
        "#splitting training and test data\n",
        "X=salary_dataframe.iloc[:,:-1].values #years of experience\n",
        "Y=salary_dataframe.iloc[:,1].values# target value salary\n",
        "print(X)\n",
        "print(Y)"
      ],
      "execution_count": 48,
      "outputs": [
        {
          "output_type": "stream",
          "name": "stdout",
          "text": [
            "[[ 1.1]\n",
            " [ 1.3]\n",
            " [ 1.5]\n",
            " [ 2. ]\n",
            " [ 2.2]\n",
            " [ 2.9]\n",
            " [ 3. ]\n",
            " [ 3.2]\n",
            " [ 3.2]\n",
            " [ 3.7]\n",
            " [ 3.9]\n",
            " [ 4. ]\n",
            " [ 4. ]\n",
            " [ 4.1]\n",
            " [ 4.5]\n",
            " [ 4.9]\n",
            " [ 5.1]\n",
            " [ 5.3]\n",
            " [ 5.9]\n",
            " [ 6. ]\n",
            " [ 6.8]\n",
            " [ 7.1]\n",
            " [ 7.9]\n",
            " [ 8.2]\n",
            " [ 8.7]\n",
            " [ 9. ]\n",
            " [ 9.5]\n",
            " [ 9.6]\n",
            " [10.3]\n",
            " [10.5]]\n",
            "[ 39343  46205  37731  43525  39891  56642  60150  54445  64445  57189\n",
            "  63218  55794  56957  57081  61111  67938  66029  83088  81363  93940\n",
            "  91738  98273 101302 113812 109431 105582 116969 112635 122391 121872]\n"
          ]
        }
      ]
    },
    {
      "cell_type": "code",
      "metadata": {
        "id": "hkiSQq_3u6fP"
      },
      "source": [
        "X_train,X_test,Y_train,Y_test=train_test_split(X,Y,test_size=0.33,random_state=2)"
      ],
      "execution_count": 96,
      "outputs": []
    },
    {
      "cell_type": "markdown",
      "metadata": {
        "id": "STWYoivPvMQa"
      },
      "source": [
        ""
      ]
    },
    {
      "cell_type": "code",
      "metadata": {
        "id": "hVHXsoESyfUf"
      },
      "source": [
        "model=Linear_Regression(learning_rate=0.0198,no_of_iterations=1500)\n",
        "#fitting the Linear Regression model\n",
        "model.fit(X_train,Y_train)"
      ],
      "execution_count": 97,
      "outputs": []
    },
    {
      "cell_type": "code",
      "metadata": {
        "colab": {
          "base_uri": "https://localhost:8080/"
        },
        "id": "5PzUW6W00E-W",
        "outputId": "5a9ed6d3-124f-4603-c99a-2cb3378d7f86"
      },
      "source": [
        "#printing the vcalues of parameters - weights and bias\n",
        "print('Weight ',model.w[0])\n",
        "print(\"Bias \",model.b)"
      ],
      "execution_count": 98,
      "outputs": [
        {
          "output_type": "stream",
          "name": "stdout",
          "text": [
            "Weight  9512.980565710637\n",
            "Bias  23707.558954720353\n"
          ]
        }
      ]
    },
    {
      "cell_type": "code",
      "metadata": {
        "id": "PrcpMlNo3msJ"
      },
      "source": [
        ""
      ],
      "execution_count": null,
      "outputs": []
    },
    {
      "cell_type": "markdown",
      "metadata": {
        "id": "lqFg64f_1UMs"
      },
      "source": [
        "y=weight(x)+Bias\n",
        "salary=yearsof_experience(weight)+Bias\n",
        "\n",
        "*basic equation\n",
        "\n",
        "*value changes as experience changes\n",
        "\n",
        "\n",
        "\n",
        "\n"
      ]
    },
    {
      "cell_type": "code",
      "metadata": {
        "colab": {
          "base_uri": "https://localhost:8080/"
        },
        "id": "q9BGTvx_2Ern",
        "outputId": "012789b1-5870-4a12-a846-88ce7cc5afd7"
      },
      "source": [
        "#Prediction\n",
        "test_data_prediction=model.predict(X_test)\n",
        "print(test_data_prediction)"
      ],
      "execution_count": 99,
      "outputs": [
        {
          "output_type": "stream",
          "name": "stdout",
          "text": [
            "[ 36074.43369014  34171.837577    66515.97150042  58905.58704785\n",
            "  91249.72097127  80785.44234898 101713.99959355  52246.50065185\n",
            "  42733.52008614  88395.82680155]\n"
          ]
        }
      ]
    },
    {
      "cell_type": "markdown",
      "metadata": {
        "id": "_Wtt8_IA19XC"
      },
      "source": [
        "Visualizing predicted values vs actual values\n"
      ]
    },
    {
      "cell_type": "code",
      "metadata": {
        "colab": {
          "base_uri": "https://localhost:8080/",
          "height": 295
        },
        "id": "ngGNO3zA2anr",
        "outputId": "8009931b-65c2-4856-ad5b-3f6be414fe24"
      },
      "source": [
        "plt.scatter(X_test,Y_test,color='blue')\n",
        "plt.plot(X_test,test_data_prediction,color='red')\n",
        "plt.xlabel(' Work Experience')\n",
        "plt.ylabel('Salary')\n",
        "plt.title(' Salary vs Experience')\n",
        "plt.show()"
      ],
      "execution_count": 100,
      "outputs": [
        {
          "output_type": "display_data",
          "data": {
            "image/png": "[encoded data removed]",
            "text/plain": [
              "<Figure size 432x288 with 1 Axes>"
            ]
          },
          "metadata": {
            "needs_background": "light"
          }
        }
      ]
    }
  ]
}